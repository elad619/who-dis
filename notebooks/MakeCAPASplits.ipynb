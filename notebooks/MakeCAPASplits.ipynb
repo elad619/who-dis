{
 "cells": [
  {
   "cell_type": "code",
   "execution_count": null,
   "id": "c716e6a3-2276-4c67-9b5d-2f2c2f095eb6",
   "metadata": {},
   "outputs": [],
   "source": [
    "%matplotlib widget"
   ]
  },
  {
   "cell_type": "code",
   "execution_count": null,
   "id": "23914a93-2430-447a-9476-13d8022b58f8",
   "metadata": {},
   "outputs": [],
   "source": [
    "import sys\n",
    "sys.path.append(\"..\")\n",
    "\n",
    "import pandas as pd\n",
    "from pathlib import Path\n",
    "from tqdm import tqdm\n",
    "\n",
    "import json\n",
    "import numpy as np\n",
    "import os\n",
    "\n",
    "from data.loaders import load_capas_from_jsons, get_train_test_data"
   ]
  },
  {
   "cell_type": "code",
   "execution_count": null,
   "id": "fda40b83-152d-48a2-88f6-e900635c51fc",
   "metadata": {},
   "outputs": [],
   "source": [
    "base_dir = r\"C:\\Users\\stav\\data\\whodis\\parsed\\CAPAs\"\n",
    "traintest_dir = r\"C:\\Users\\stav\\data\\whodis\\train_test_split\"\n",
    "output_train_val_split_dir = traintest_dir\n",
    "\n",
    "cat_dfs= load_capas_from_jsons(base_dir)\n",
    "capas_df = cat_dfs['capas']\n",
    "mbcs_df = cat_dfs['mbc']"
   ]
  },
  {
   "cell_type": "code",
   "execution_count": null,
   "id": "ab76622a-ad8b-48e5-899a-c01ff3294317",
   "metadata": {},
   "outputs": [],
   "source": [
    "cats_df = capas_df\n",
    "features_df = pd.pivot_table(cats_df, values='matches', index=['uid'], columns=['rule'], aggfunc=np.sum, fill_value=0)\n",
    "features_df = (features_df>=1).astype(int)\n",
    "features_df['label'] = capas_df.groupby('uid').label.first()"
   ]
  },
  {
   "cell_type": "markdown",
   "id": "c0df2b1a-542f-4062-afd2-9043d4423557",
   "metadata": {},
   "source": [
    "# Split v2: Remove duplicate CAPAs"
   ]
  },
  {
   "cell_type": "code",
   "execution_count": null,
   "id": "d09ecd87-bd9d-4fee-aa46-5a5c7e27c624",
   "metadata": {},
   "outputs": [],
   "source": [
    "trainval_ratio = 0.7\n",
    "val_split = pd.DataFrame(columns=['family','sample_name'])\n",
    "train_split = pd.DataFrame(columns=['family','sample_name'])\n",
    "for label, group_df in features_df.drop_duplicates().groupby('label'):\n",
    "    n_train = int(group_df.shape[0]*trainval_ratio)\n",
    "    group_train_df = pd.DataFrame()\n",
    "    group_train_df['sample_name'] = group_df.iloc[:n_train].index.to_list()\n",
    "    group_train_df['family'] = label\n",
    "    group_val_df = pd.DataFrame()\n",
    "    group_val_df['sample_name'] = group_df.iloc[n_train:].index.to_list()\n",
    "    group_val_df['family'] = label\n",
    "    val_split = val_split.append(group_val_df)\n",
    "    train_split = train_split.append(group_train_df)"
   ]
  },
  {
   "cell_type": "code",
   "execution_count": null,
   "id": "d3df95e4-c4a2-4635-8557-4df8e5570966",
   "metadata": {},
   "outputs": [],
   "source": [
    "val_split.to_csv(os.path.join(output_train_val_split,'test_samples_v2.csv'), index=False)\n",
    "train_split.to_csv(os.path.join(output_train_val_split,'train_samples_v2.csv'), index=False)"
   ]
  },
  {
   "cell_type": "markdown",
   "id": "78477cb6-45c8-48a0-afc3-784ff8974352",
   "metadata": {},
   "source": [
    "# Split v3: Split \"Hard test samples\" fro regular train and test samples (wipbot)"
   ]
  },
  {
   "cell_type": "code",
   "execution_count": null,
   "id": "84ebdd91-7733-41bd-b7fb-09dfa7a79bdf",
   "metadata": {},
   "outputs": [],
   "source": [
    "wipbot_samples, = get_train_test_data(traintest_dir, 'wipbot')\n",
    "capas_df = capas_df.set_index('uid')\n",
    "capas_df.loc[wipbot_samples.index,'label']='wipbot'\n",
    "capas_df = capas_df.reset_index()\n",
    "features_df = pd.pivot_table(capas_df, values='matches', index=['uid'], columns=['rule'], aggfunc=np.sum, fill_value=0)\n",
    "features_df = (features_df>=1).astype(int)\n",
    "features_df['label'] = capas_df.groupby('uid').label.first()"
   ]
  },
  {
   "cell_type": "code",
   "execution_count": null,
   "id": "d5bfc63c-a1a2-488d-a8f6-00cecc7cb013",
   "metadata": {},
   "outputs": [],
   "source": [
    "trainval_ratio = 0.7\n",
    "hard_test_labels=['wipbot']\n",
    "\n",
    "val_split = pd.DataFrame(columns=['family','sample_name'])\n",
    "train_split = pd.DataFrame(columns=['family','sample_name'])\n",
    "hard_test_split = pd.DataFrame(columns=['family','sample_name'])\n",
    "for label, group_df in features_df.drop_duplicates().groupby('label'):\n",
    "    print(label)\n",
    "    if label in hard_test_labels:\n",
    "        group_hard_df = pd.DataFrame()\n",
    "        group_hard_df['sample_name'] = group_df.index.to_list()\n",
    "        group_hard_df['family'] = label\n",
    "        hard_test_split=hard_test_split.append(group_hard_df)\n",
    "    else:\n",
    "        n_train = int(group_df.shape[0]*trainval_ratio)\n",
    "        group_train_df = pd.DataFrame()\n",
    "        group_train_df['sample_name'] = group_df.iloc[:n_train].index.to_list()\n",
    "        group_train_df['family'] = label\n",
    "        group_val_df = pd.DataFrame()\n",
    "        group_val_df['sample_name'] = group_df.iloc[n_train:].index.to_list()\n",
    "        group_val_df['family'] = label\n",
    "        val_split = val_split.append(group_val_df)\n",
    "        train_split = train_split.append(group_train_df)"
   ]
  },
  {
   "cell_type": "code",
   "execution_count": null,
   "id": "02bab814-3f6d-4b79-bc59-5853fef9f0bb",
   "metadata": {},
   "outputs": [],
   "source": [
    "val_split.to_csv(os.path.join(output_train_val_split,'test_samples_v3.csv'), index=False)\n",
    "train_split.to_csv(os.path.join(output_train_val_split,'train_samples_v3.csv'), index=False)\n",
    "hard_test_split.to_csv(os.path.join(output_train_val_split,'hard_samples_v3.csv'), index=False)"
   ]
  }
 ],
 "metadata": {
  "kernelspec": {
   "display_name": "who-dis",
   "language": "python",
   "name": "who-dis"
  },
  "language_info": {
   "codemirror_mode": {
    "name": "ipython",
    "version": 3
   },
   "file_extension": ".py",
   "mimetype": "text/x-python",
   "name": "python",
   "nbconvert_exporter": "python",
   "pygments_lexer": "ipython3",
   "version": "3.8.10"
  }
 },
 "nbformat": 4,
 "nbformat_minor": 5
}
