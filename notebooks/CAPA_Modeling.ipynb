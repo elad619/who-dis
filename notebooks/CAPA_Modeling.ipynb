{
 "cells": [
  {
   "cell_type": "code",
   "execution_count": 5,
   "id": "e4f9d027-7d7a-471a-ad5f-b70eebb45496",
   "metadata": {},
   "outputs": [],
   "source": [
    "import pandas as pd\n",
    "from pathlib import Path\n",
    "from tqdm import tqdm\n",
    "import sys\n",
    "import json\n",
    "import numpy as np\n",
    "sys.path.append(\"..\")\n",
    "from data.loaders import load_capas_from_jsons"
   ]
  },
  {
   "cell_type": "code",
   "execution_count": 3,
   "id": "407b5e30-21ca-4d20-8dc2-1eb47f1daeb7",
   "metadata": {},
   "outputs": [
    {
     "name": "stderr",
     "output_type": "stream",
     "text": [
      "Loading json files: 100%|█████████████████████████████████████████████████████████| 2148/2148 [00:02<00:00, 815.89it/s]\n"
     ]
    }
   ],
   "source": [
    "base_dir = r\"C:\\Users\\stav\\data\\whodis\\parsed\\CAPAs\"\n",
    "cat_dfs= load_capas_from_jsons(base_dir)\n",
    "capas_df = cat_dfs['capas']\n",
    "mbcs_df = cat_dfs['mbc']"
   ]
  },
  {
   "cell_type": "code",
   "execution_count": 25,
   "id": "faaf2a54-6768-4fa5-a51b-c3cc5929c59a",
   "metadata": {},
   "outputs": [],
   "source": [
    "def _prepare_dfs_for_model(cats_df, column):\n",
    "    cats_df['dummy'] = 1\n",
    "    features_df = pd.pivot_table(cats_df, values='dummy', index=['uid'], columns=[column], aggfunc=np.sum, fill_value=0)\n",
    "    features_df = (features_df>=1).astype(int)\n",
    "    features_df['label'] = capas_df.groupby('uid').label.first()\n",
    "    return features_df\n",
    "    "
   ]
  },
  {
   "cell_type": "code",
   "execution_count": 26,
   "id": "6298604c-287d-4df7-96a6-d0bd31838564",
   "metadata": {},
   "outputs": [],
   "source": [
    "# Prepare \n",
    "capas_features_df = _prepare_dfs_for_model(capas_df, column='rule')\n",
    "mbcs_features_df = _prepare_dfs_for_model(mbcs_df,column='objective')\n"
   ]
  },
  {
   "cell_type": "code",
   "execution_count": 27,
   "id": "b903e88d-6e1d-419b-bbd0-d3ed8e19518a",
   "metadata": {
    "tags": []
   },
   "outputs": [
    {
     "data": {
      "text/plain": [
       "uid\n",
       "0024d27614933d13f0ba3c380e28558d9470861bcced22ff2be822ec098a8646    14\n",
       "003a903cbab3e91ef22602624645342e81b30ec6263f1e62165abd479c48942e     7\n",
       "0041d82cc2a5bb2f447f9c40989292675232cb8404bbfa751c9b961e2f6149c7    15\n",
       "004ede55a972e10d9a21bcf338b4907d6eed65bf5ad6abbbd5aec7d8484bdedf     7\n",
       "00b4e13fd8eaae74e4244919a2301ee56599a6f3b4863a7f6a2a40564c65409d    26\n",
       "                                                                    ..\n",
       "ffce2c84295a89f0fefd475ad51f085005cfdb6456d3d7baf4e4be5076e9dfad     6\n",
       "ffcf325fdc1ac66c9dbac40a97ba7c8f082641e14fc9d1d2343792e56ee8b250    26\n",
       "ffd6bdff8e65b8fd44ea57a068a240b96b5b5598cd6aef89a8683bbed5babb48    26\n",
       "ffdf9d72522eb970300f2229b500ad0bdcc3d6d4a902ed608a1032b7bea59ca5    25\n",
       "fff3d9dc16bf3a8c3181ed99c6e93577053db0c13b1400cc7f19440c69f12930    26\n",
       "Length: 2147, dtype: int64"
      ]
     },
     "execution_count": 27,
     "metadata": {},
     "output_type": "execute_result"
    }
   ],
   "source": [
    "capas_features_df[np.setdiff1d(capas_features_df.columns, 'label')].sum(1)"
   ]
  },
  {
   "cell_type": "code",
   "execution_count": 22,
   "id": "507010fc-11a2-472b-8388-67745d4dd521",
   "metadata": {},
   "outputs": [
    {
     "data": {
      "text/plain": [
       "array(['accept command line arguments', 'access PEB ldr_data',\n",
       "       'allocate RWX memory', 'allocate thread local storage',\n",
       "       'authenticate HMAC', 'bypass Windows File Protection',\n",
       "       'capture screenshot', 'change the wallpaper', 'check OS version',\n",
       "       'check for PEB BeingDebugged flag',\n",
       "       'check for PEB NtGlobalFlag flag',\n",
       "       'check for software breakpoints',\n",
       "       'check for time delay via GetTickCount',\n",
       "       'check for unmoving mouse cursor', 'check if directory exists',\n",
       "       'check if file exists', 'compile .NET assembly',\n",
       "       'compiled to the .NET platform', 'compiled with Borland Delphi',\n",
       "       'compress data via WinAPI', 'contain a resource (.rsrc) section',\n",
       "       'contain a thread local storage (.tls) section',\n",
       "       'contain an embedded PE file', 'contain obfuscated stackstrings',\n",
       "       'contains PDB path', 'copy file', 'create HTTP request',\n",
       "       'create UDP socket', 'create directory', 'create mutex',\n",
       "       'create or open registry key', 'create pipe',\n",
       "       'create process on Windows', 'create process suspended',\n",
       "       'create shortcut via IShellLink', 'create thread', 'debug build',\n",
       "       'decompress data using aPLib',\n",
       "       'decrypt data using AES via x86 extensions',\n",
       "       'decrypt data using RSA', 'delete directory', 'delete file',\n",
       "       'delete registry key', 'delete registry value',\n",
       "       'encode data using Base64', 'encode data using XOR',\n",
       "       'encrypt data using AES via .NET', 'encrypt data using RC4 PRGA',\n",
       "       'encrypt data using RC6', 'encrypt data using RSA',\n",
       "       'encrypt data using Salsa20 or ChaCha',\n",
       "       'encrypt or decrypt via WinCrypt', 'enumerate PE sections',\n",
       "       'enumerate drives', 'enumerate files on windows',\n",
       "       'enumerate files recursively', 'enumerate gui resources',\n",
       "       'enumerate network shares', 'enumerate processes',\n",
       "       'extract resource via kernel32 functions', 'find graphical window',\n",
       "       'find process by PID', 'find process by name',\n",
       "       'gather coreftp information', 'generate random numbers in .NET',\n",
       "       'generate random numbers using the Delphi LCG',\n",
       "       'generate random numbers via WinAPI', 'get common file path',\n",
       "       'get disk information', 'get file attributes', 'get file size',\n",
       "       'get file system object information', 'get geographical location',\n",
       "       'get graphical window text', 'get hostname',\n",
       "       'get kernel32 base address', 'get keyboard layout',\n",
       "       'get logon sessions', 'get memory capacity',\n",
       "       'get networking interfaces', 'get number of processors',\n",
       "       'get proxy', 'get session integrity level',\n",
       "       'get session user name', 'get storage device properties',\n",
       "       'get system information on Windows',\n",
       "       'get thread local storage value', 'hash data using SHA1',\n",
       "       'hash data using SHA1 via WinCrypt', 'hash data using SHA256',\n",
       "       'hash data using fnv', 'hash data using murmur2',\n",
       "       'hash data using murmur3', 'hash data via WinCrypt',\n",
       "       'hash data with CRC32', 'hash data with MD5',\n",
       "       'hide graphical window', 'hide the Windows taskbar',\n",
       "       'identify system language via API', 'initialize Winsock library',\n",
       "       'interact with driver via control codes',\n",
       "       'invoke .NET assembly method',\n",
       "       'link function at runtime on Windows',\n",
       "       'link many functions at runtime',\n",
       "       'linked against CPP regex library', 'linked against ZLIB',\n",
       "       'list TCP connections and listeners',\n",
       "       'list UDP connections and listeners', 'load .NET assembly',\n",
       "       'log keystrokes', 'log keystrokes via application hook',\n",
       "       'log keystrokes via polling', 'mine cryptocurrency', 'mixed mode',\n",
       "       'modify access privileges', 'move file',\n",
       "       'obfuscated with SmartAssembly', 'parse PE header',\n",
       "       'parse credit card information', 'persist via Run registry key',\n",
       "       'power down monitor', 'print debug messages',\n",
       "       'query environment variable', 'query or enumerate registry key',\n",
       "       'query or enumerate registry value', 'read clipboard data',\n",
       "       'read file on Windows', 'read raw disk data',\n",
       "       'rebuild import table', 'receive HTTP response',\n",
       "       'receive and write data from server to client', 'receive data',\n",
       "       'reference Base64 string', 'reference WMI statements',\n",
       "       'reference anti-VM strings',\n",
       "       'reference anti-VM strings targeting Parallels',\n",
       "       'reference anti-VM strings targeting Qemu',\n",
       "       'reference anti-VM strings targeting VMWare',\n",
       "       'reference anti-VM strings targeting VirtualBox',\n",
       "       'reference anti-VM strings targeting VirtualPC',\n",
       "       'reference anti-VM strings targeting Xen',\n",
       "       'reference public RSA key', 'reference startup folder',\n",
       "       'resolve function by hash',\n",
       "       'resolve function by parsing PE exports', 'resume thread',\n",
       "       'send HTTP request', 'send data', 'send data on socket',\n",
       "       'set current directory', 'set environment variable',\n",
       "       'set file attributes', 'set registry value',\n",
       "       'set thread local storage value', 'suspend thread',\n",
       "       'swap mouse buttons', 'terminate process',\n",
       "       'terminate process by name in .NET',\n",
       "       'terminate process via fastfail', 'unmanaged call',\n",
       "       'validate payment card number using luhn algorithm',\n",
       "       'write file on Windows'], dtype=object)"
      ]
     },
     "execution_count": 22,
     "metadata": {},
     "output_type": "execute_result"
    }
   ],
   "source": [
    "from catboost import CatBoost, CatBoostRegressor, Pool\n",
    "df_ = df.sample(frac=1., random_state=0)\n",
    "df_train = df_.iloc[: 2 * len(df) // 3]\n",
    "df_test = df_.iloc[2 * len(df) // 3 :]\n",
    "train_pool = Pool(df_train.drop(['price_usd'], 1), \n",
    "                  label=df_train.price_usd,\n",
    "                  cat_features=categorical_features_names)\n",
    "test_pool = Pool(df_test.drop(['price_usd'], 1),\n",
    "                 label=df_test.price_usd,\n",
    "                 cat_features=categorical_features_names)"
   ]
  },
  {
   "cell_type": "code",
   "execution_count": null,
   "id": "5e11515a-8a6f-4dfe-8ef7-f15d3b6601c4",
   "metadata": {},
   "outputs": [],
   "source": []
  }
 ],
 "metadata": {
  "kernelspec": {
   "display_name": "Python 3 (ipykernel)",
   "language": "python",
   "name": "python3"
  },
  "language_info": {
   "codemirror_mode": {
    "name": "ipython",
    "version": 3
   },
   "file_extension": ".py",
   "mimetype": "text/x-python",
   "name": "python",
   "nbconvert_exporter": "python",
   "pygments_lexer": "ipython3",
   "version": "3.8.10"
  }
 },
 "nbformat": 4,
 "nbformat_minor": 5
}
