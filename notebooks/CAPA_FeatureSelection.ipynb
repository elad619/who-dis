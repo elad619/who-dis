{
 "cells": [
  {
   "cell_type": "code",
   "execution_count": null,
   "id": "a89d616d-59e7-493b-a2a0-7a8836522224",
   "metadata": {},
   "outputs": [],
   "source": [
    "%matplotlib widget"
   ]
  },
  {
   "cell_type": "code",
   "execution_count": null,
   "id": "69924d3a-0b01-44a8-91d3-65edaa0eae84",
   "metadata": {},
   "outputs": [],
   "source": [
    "import sys\n",
    "sys.path.append(\"..\")\n",
    "import pandas as pd\n",
    "from pathlib import Path\n",
    "from tqdm import tqdm\n",
    "import json\n",
    "import numpy as np\n",
    "import matplotlib.pyplot as plt\n",
    "import seaborn as sns\n",
    "from sklearn.manifold import TSNE\n",
    "from sklearn.preprocessing import OrdinalEncoder, LabelEncoder\n",
    "from data.loaders import load_capas_from_jsons, get_train_test_data, extract_capa_for_model\n",
    "from catboost import CatBoost, CatBoostRegressor, Pool\n",
    "from catboost import CatBoostClassifier\n",
    "from catboost import CatBoostRegressor, EShapCalcType, EFeaturesSelectionAlgorithm"
   ]
  },
  {
   "cell_type": "code",
   "execution_count": null,
   "id": "6d3c0b8a-742e-4baa-81eb-3ac45526266d",
   "metadata": {},
   "outputs": [],
   "source": [
    "def _load_split(features_df, split_ver):\n",
    "    if split_ver=='v3':\n",
    "        train_split, test_split, hard_test_split = get_train_test_data(train_test_split_dir, ver=split_ver)\n",
    "        train_index  = np.intersect1d(train_split.index, features_df.index)\n",
    "        test_index  = np.intersect1d(test_split.index, features_df.index)\n",
    "        hard_test_index  = np.intersect1d(hard_test_split.index, features_df.index)\n",
    "        features_train = features_df.loc[train_index]\n",
    "        features_test = features_df.loc[test_index]\n",
    "        hard_features_test = features_df.loc[hard_test_index]\n",
    "\n",
    "    else:\n",
    "        train_split, test_split = get_train_test_data(train_test_split_dir, ver=split_ver)\n",
    "\n",
    "        train_index  = np.intersect1d(train_split.index, features_df.index)\n",
    "        test_index  = np.intersect1d(test_split.index, features_df.index)\n",
    "        features_train = features_df.loc[train_index]\n",
    "        features_test = features_df.loc[test_index]\n",
    "        hard_features_test = pd.DataFrame(columns=features_df.columns)\n",
    "    return features_train, features_test, hard_features_test"
   ]
  },
  {
   "cell_type": "code",
   "execution_count": null,
   "id": "e0ddc167-75ba-4dbe-a0fc-ce4b72c2e2c1",
   "metadata": {},
   "outputs": [],
   "source": [
    "base_dir = r\"C:\\Users\\stav\\data\\whodis\\parsed\\CAPAs\"\n",
    "train_test_split_dir = r'C:\\Users\\stav\\data\\whodis\\train_test_split'"
   ]
  },
  {
   "cell_type": "code",
   "execution_count": null,
   "id": "cee6a49b-4639-4fc7-9509-8240475efe78",
   "metadata": {},
   "outputs": [],
   "source": [
    "cat_dfs= load_capas_from_jsons(base_dir)\n",
    "capas_df = cat_dfs['capas']\n",
    "mbcs_df = cat_dfs['mbc']\n",
    "features_encoder = LabelEncoder(); features_encoder.fit(capas_df['rule'].append(mbcs_df['objective']))\n",
    "capas_df['rule'] = features_encoder.transform(capas_df.rule).astype(str)\n",
    "mbcs_df['objective']=features_encoder.transform(mbcs_df.objective).astype(str)"
   ]
  },
  {
   "cell_type": "code",
   "execution_count": null,
   "id": "20887006-d2ba-47c9-82c1-5152ed48e561",
   "metadata": {},
   "outputs": [],
   "source": [
    "# Prepare features\n",
    "capas_features_df = extract_capa_for_model(capas_df, column='rule')\n",
    "mbcs_features_df = extract_capa_for_model(mbcs_df,column='objective')"
   ]
  },
  {
   "cell_type": "code",
   "execution_count": null,
   "id": "6af5a02c-4886-427e-b215-987792b6de1d",
   "metadata": {},
   "outputs": [],
   "source": [
    "features_opts = 'both' #['capas','mbc','both']\n",
    "if features_opts=='both':\n",
    "    features_df = pd.concat([capas_features_df,mbcs_features_df.drop(columns=['label'])],axis=1).fillna(int(0))\n",
    "    feature_names = features_df.drop(columns=['label']).columns\n",
    "    features_df[feature_names]=features_df[feature_names].astype(int)\n",
    "elif features_opts=='capas':\n",
    "    features_df = capas_features_df\n",
    "elif features_opts=='mbc':\n",
    "    features_df = mbcs_features_df"
   ]
  },
  {
   "cell_type": "code",
   "execution_count": null,
   "id": "1d5cd0dd-dd9e-4af3-885b-f3a44f5b75cf",
   "metadata": {},
   "outputs": [],
   "source": [
    "split_type= 'family_as_bg' #['flat','family_as_bg']\n",
    "if split_type=='flat':\n",
    "    pass\n",
    "elif split_type=='family_as_bg':\n",
    "    families = ['orcus', '7ev3n', 'Emotet', 'Conti', 'SugarRansomware','not_apt','missing']\n",
    "    apts = ['cozy','veno']\n",
    "    \n",
    "    transform_dict = {f:'family' for f in families}\n",
    "    for apt in apts:\n",
    "        transform_dict[apt]=apt\n",
    "    transform_dict['wipbot']='veno'\n",
    "    features_df['label'] = features_df.label.apply(transform_dict.get)\n",
    "    \n",
    "label_names = features_df['label'].unique()\n",
    "le = LabelEncoder()\n",
    "le.fit(features_df.label)\n",
    "features_df['label'] = le.transform(features_df.label)"
   ]
  },
  {
   "cell_type": "code",
   "execution_count": null,
   "id": "8c8397a1-f7b3-450e-b79c-3486faaf7b68",
   "metadata": {},
   "outputs": [],
   "source": [
    "split_ver = 'v3' #['v1,'v2',v3']\n",
    "features_train, features_test, hard_features_test=_load_split(features_df, split_ver)\n",
    "train_pool = Pool(features_train.drop(['label'], 1), \n",
    "                  label=features_train.label)\n",
    "                 #cat_features=features_train.drop(columns=['label']).columns.to_list())\n",
    "test_pool = Pool(features_test.drop(['label'], 1),\n",
    "                 label=features_test.label)\n",
    "                #cat_features=features_train.drop(columns=['label']).columns.to_list())\n",
    "hard_test_pool = Pool(hard_features_test.drop(['label'], 1),\n",
    "                 label=hard_features_test.label)\n",
    "                #cat_features=features_train.drop(columns=['label']).columns.to_list())"
   ]
  },
  {
   "cell_type": "code",
   "execution_count": null,
   "id": "2067b46f-d6df-459d-b026-244c3bebb95c",
   "metadata": {},
   "outputs": [],
   "source": [
    "model_params_featur_select1 = dict(iterations=1500, learning_rate=0.01, auto_class_weights='Balanced', reg_lambda=20.0, grow_policy='Lossguide', \n",
    "                    depth=6, max_leaves=16, colsample_bylevel=0.5, loss_function='MultiClassOneVsAll')\n",
    "\n",
    "selection_steps = 5\n",
    "model1 = CatBoostClassifier(**model_params_featur_select1)\n",
    "summary1 = model.select_features(\n",
    "         Pool(features_train.drop(['label'], 1), label=features_train.label),\n",
    "        eval_set=Pool(features_test.drop(['label'], 1), label=features_test.label),\n",
    "        features_for_select=features_train.drop(columns=['label']).columns.to_list(),     # we will select from all features\n",
    "        num_features_to_select=100,  # we want to select exactly important features\n",
    "        steps=selection_steps,                                     # more steps - more accurate selection\n",
    "        algorithm=EFeaturesSelectionAlgorithm.RecursiveByShapValues,\n",
    "        shap_calc_type=EShapCalcType.Regular,            # can be Approximate, Regular and Exact\n",
    "        train_final_model=True,                          # to train model with selected features\n",
    "        logging_level='Verbose',\n",
    "        plot=True\n",
    "    )\n",
    "selected_features = summary['selected_features_names']\n"
   ]
  },
  {
   "cell_type": "code",
   "execution_count": null,
   "id": "c7065193-157b-4889-ad3a-3f58858fce19",
   "metadata": {},
   "outputs": [],
   "source": [
    "X_train = features_train[selected_features]\n",
    "y_train = features_train.label\n",
    "X_test = features_test[selected_features]\n",
    "y_test = features_test.label\n",
    "X_test_hard = hard_features_test[selected_features]\n",
    "y_test_hard = hard_features_test.label"
   ]
  },
  {
   "cell_type": "code",
   "execution_count": null,
   "id": "944fcb7c-958a-4291-ba6c-104367e5964f",
   "metadata": {},
   "outputs": [],
   "source": [
    "print('Test Accuracy (Easy) {}'.format((model1.predict(X_test))==y_test).sum()/y_test.shape[0]))\n",
    "print('Test Accuracy (hard) {}'.format((model1.predict(X_test_hard)==y_test_hard).sum()/y_test_hard.shape[0]))"
   ]
  },
  {
   "cell_type": "code",
   "execution_count": 2,
   "id": "05c59f27-c17c-4218-be5f-95dac3bc2eda",
   "metadata": {
    "collapsed": true,
    "jupyter": {
     "outputs_hidden": true
    },
    "tags": []
   },
   "outputs": [
    {
     "ename": "NameError",
     "evalue": "name 'features_encoder' is not defined",
     "output_type": "error",
     "traceback": [
      "\u001b[1;31m---------------------------------------------------------------------------\u001b[0m",
      "\u001b[1;31mNameError\u001b[0m                                 Traceback (most recent call last)",
      "Input \u001b[1;32mIn [2]\u001b[0m, in \u001b[0;36m<cell line: 4>\u001b[1;34m()\u001b[0m\n\u001b[0;32m      1\u001b[0m \u001b[38;5;66;03m# Ignore Features\u001b[39;00m\n\u001b[0;32m      3\u001b[0m ignore_features\u001b[38;5;241m=\u001b[39m[\u001b[38;5;124m'\u001b[39m\u001b[38;5;124mmove file\u001b[39m\u001b[38;5;124m'\u001b[39m]\n\u001b[1;32m----> 4\u001b[0m ignore_features_encoded \u001b[38;5;241m=\u001b[39m \u001b[43mfeatures_encoder\u001b[49m\u001b[38;5;241m.\u001b[39mtransform(ignore_features)\n",
      "\u001b[1;31mNameError\u001b[0m: name 'features_encoder' is not defined"
     ]
    }
   ],
   "source": [
    "# Ignore Features\n",
    "\n",
    "ignore_features=['move file']\n",
    "ignore_features_encoded = features_encoder.transform(ignore_features).astype(str)\n",
    "split_ver = 'v3' #['v1,'v2',v3']\n",
    "features_train, features_test, hard_features_test=_load_split(features_df.drop(columns=ignore_features_encoded), split_ver)"
   ]
  },
  {
   "cell_type": "code",
   "execution_count": null,
   "id": "be6f9510-04ff-4046-8f41-81a43184c757",
   "metadata": {},
   "outputs": [],
   "source": [
    "model_params_featur_select2 = dict(iterations=1500, learning_rate=0.01, auto_class_weights='Balanced', reg_lambda=20.0, grow_policy='Lossguide', \n",
    "                    depth=6, max_leaves=16, colsample_bylevel=0.5, loss_function='MultiClassOneVsAll')\n",
    "\n",
    "selection_steps = 5\n",
    "model2 = CatBoostClassifier(**model_params_featur_select1)\n",
    "summary = {}\n",
    "summary['selected_features_names'] = features_train.drop(columns=['label']).columns.to_list()\n",
    "summary = model2.select_features(\n",
    "        train_pool,\n",
    "        eval_set=test_pool,\n",
    "        features_for_select=features_train.drop(columns=['label']).columns.to_list(),     # we will select from all features\n",
    "        num_features_to_select=100,  # we want to select exactly important features\n",
    "        steps=selection_steps,                                     # more steps - more accurate selection\n",
    "        algorithm=EFeaturesSelectionAlgorithm.RecursiveByShapValues,\n",
    "        shap_calc_type=EShapCalcType.Regular,            # can be Approximate, Regular and Exact\n",
    "        train_final_model=True,                          # to train model with selected features\n",
    "        logging_level='Verbose',\n",
    "        plot=True\n",
    "    )"
   ]
  }
 ],
 "metadata": {
  "kernelspec": {
   "display_name": "who-dis",
   "language": "python",
   "name": "who-dis"
  },
  "language_info": {
   "codemirror_mode": {
    "name": "ipython",
    "version": 3
   },
   "file_extension": ".py",
   "mimetype": "text/x-python",
   "name": "python",
   "nbconvert_exporter": "python",
   "pygments_lexer": "ipython3",
   "version": "3.8.10"
  }
 },
 "nbformat": 4,
 "nbformat_minor": 5
}
