{
 "cells": [
  {
   "cell_type": "code",
   "execution_count": 1,
   "id": "bac7ab88-0045-47cf-8a5a-4fc770ea07e3",
   "metadata": {},
   "outputs": [
    {
     "name": "stderr",
     "output_type": "stream",
     "text": [
      "/home/elad619/.local/lib/python3.10/site-packages/tqdm/auto.py:22: TqdmWarning: IProgress not found. Please update jupyter and ipywidgets. See https://ipywidgets.readthedocs.io/en/stable/user_install.html\n",
      "  from .autonotebook import tqdm as notebook_tqdm\n"
     ]
    }
   ],
   "source": [
    "from pathlib import Path\n",
    "\n",
    "import pandas as pd\n",
    "\n",
    "from data_loading import get_embeddings_dataset\n",
    "from file_wise_metric import file_metric\n",
    "from nearest_nighbor import GroupOfVectorsNearestNeighbors"
   ]
  },
  {
   "cell_type": "code",
   "execution_count": 2,
   "id": "83ac2114-77dd-469c-8c05-2c48da9bab35",
   "metadata": {},
   "outputs": [],
   "source": [
    "model = GroupOfVectorsNearestNeighbors(file_metric)"
   ]
  },
  {
   "cell_type": "code",
   "execution_count": 3,
   "id": "bd2aa099-bd8f-4d3a-8fcf-5fd70992c4b2",
   "metadata": {},
   "outputs": [],
   "source": [
    "all_data_dir_path = Path(\"/home/elad619/google_time_data\")\n",
    "embeddings_dir = Path(all_data_dir_path, \"embeddings\")\n",
    "labels_dir = Path(all_data_dir_path, \"train_test_split\")\n",
    "\n",
    "X_train, X_test, y_train, y_test = get_embeddings_dataset(labels_dir, embeddings_dir)\n",
    "\n",
    "y_train = y_train[X_train.keys()]\n",
    "y_test = y_test[X_test.keys()]"
   ]
  },
  {
   "cell_type": "code",
   "execution_count": 4,
   "id": "756754c6-b04c-43ee-9a19-9758611eb1e1",
   "metadata": {},
   "outputs": [],
   "source": [
    "model.fit(X_train, y_train)"
   ]
  },
  {
   "cell_type": "code",
   "execution_count": 5,
   "id": "8ddb3002-f4bd-45ee-88ff-b93079c3f6f4",
   "metadata": {
    "tags": []
   },
   "outputs": [
    {
     "name": "stderr",
     "output_type": "stream",
     "text": [
      "100%|██████████████████████████████████████████████████████████████████████| 130/130 [02:38<00:00,  1.22s/it]\n"
     ]
    }
   ],
   "source": [
    "pred = model.predict(X_test)"
   ]
  },
  {
   "cell_type": "code",
   "execution_count": 6,
   "id": "9e0ebc1f-2643-4e32-bf30-3b21a60d1b5d",
   "metadata": {},
   "outputs": [
    {
     "data": {
      "text/plain": [
       "3"
      ]
     },
     "execution_count": 6,
     "metadata": {},
     "output_type": "execute_result"
    }
   ],
   "source": [
    "len(pred)"
   ]
  },
  {
   "cell_type": "code",
   "execution_count": 7,
   "id": "2de2e046-ccb7-4183-89f9-b547a6ad393f",
   "metadata": {},
   "outputs": [
    {
     "ename": "KeyError",
     "evalue": "'key of type tuple not found and not a MultiIndex'",
     "output_type": "error",
     "traceback": [
      "\u001b[0;31m---------------------------------------------------------------------------\u001b[0m",
      "\u001b[0;31mKeyError\u001b[0m                                  Traceback (most recent call last)",
      "Cell \u001b[0;32mIn [7], line 1\u001b[0m\n\u001b[0;32m----> 1\u001b[0m acc \u001b[38;5;241m=\u001b[39m [p \u001b[38;5;241m==\u001b[39m t \u001b[38;5;28;01mfor\u001b[39;00m p,t \u001b[38;5;129;01min\u001b[39;00m \u001b[38;5;28mzip\u001b[39m(\u001b[38;5;28mlist\u001b[39m(\u001b[43my_train\u001b[49m\u001b[43m[\u001b[49m\u001b[43mpred\u001b[49m\u001b[43m]\u001b[49m), \u001b[38;5;28mlist\u001b[39m(y_test))]\n",
      "File \u001b[0;32m~/.local/lib/python3.10/site-packages/pandas/core/series.py:984\u001b[0m, in \u001b[0;36mSeries.__getitem__\u001b[0;34m(self, key)\u001b[0m\n\u001b[1;32m    981\u001b[0m     key \u001b[38;5;241m=\u001b[39m np\u001b[38;5;241m.\u001b[39masarray(key, dtype\u001b[38;5;241m=\u001b[39m\u001b[38;5;28mbool\u001b[39m)\n\u001b[1;32m    982\u001b[0m     \u001b[38;5;28;01mreturn\u001b[39;00m \u001b[38;5;28mself\u001b[39m\u001b[38;5;241m.\u001b[39m_get_values(key)\n\u001b[0;32m--> 984\u001b[0m \u001b[38;5;28;01mreturn\u001b[39;00m \u001b[38;5;28;43mself\u001b[39;49m\u001b[38;5;241;43m.\u001b[39;49m\u001b[43m_get_with\u001b[49m\u001b[43m(\u001b[49m\u001b[43mkey\u001b[49m\u001b[43m)\u001b[49m\n",
      "File \u001b[0;32m~/.local/lib/python3.10/site-packages/pandas/core/series.py:999\u001b[0m, in \u001b[0;36mSeries._get_with\u001b[0;34m(self, key)\u001b[0m\n\u001b[1;32m    994\u001b[0m     \u001b[38;5;28;01mraise\u001b[39;00m \u001b[38;5;167;01mTypeError\u001b[39;00m(\n\u001b[1;32m    995\u001b[0m         \u001b[38;5;124m\"\u001b[39m\u001b[38;5;124mIndexing a Series with DataFrame is not \u001b[39m\u001b[38;5;124m\"\u001b[39m\n\u001b[1;32m    996\u001b[0m         \u001b[38;5;124m\"\u001b[39m\u001b[38;5;124msupported, use the appropriate DataFrame column\u001b[39m\u001b[38;5;124m\"\u001b[39m\n\u001b[1;32m    997\u001b[0m     )\n\u001b[1;32m    998\u001b[0m \u001b[38;5;28;01melif\u001b[39;00m \u001b[38;5;28misinstance\u001b[39m(key, \u001b[38;5;28mtuple\u001b[39m):\n\u001b[0;32m--> 999\u001b[0m     \u001b[38;5;28;01mreturn\u001b[39;00m \u001b[38;5;28;43mself\u001b[39;49m\u001b[38;5;241;43m.\u001b[39;49m\u001b[43m_get_values_tuple\u001b[49m\u001b[43m(\u001b[49m\u001b[43mkey\u001b[49m\u001b[43m)\u001b[49m\n\u001b[1;32m   1001\u001b[0m \u001b[38;5;28;01melif\u001b[39;00m \u001b[38;5;129;01mnot\u001b[39;00m is_list_like(key):\n\u001b[1;32m   1002\u001b[0m     \u001b[38;5;66;03m# e.g. scalars that aren't recognized by lib.is_scalar, GH#32684\u001b[39;00m\n\u001b[1;32m   1003\u001b[0m     \u001b[38;5;28;01mreturn\u001b[39;00m \u001b[38;5;28mself\u001b[39m\u001b[38;5;241m.\u001b[39mloc[key]\n",
      "File \u001b[0;32m~/.local/lib/python3.10/site-packages/pandas/core/series.py:1034\u001b[0m, in \u001b[0;36mSeries._get_values_tuple\u001b[0;34m(self, key)\u001b[0m\n\u001b[1;32m   1031\u001b[0m     \u001b[38;5;28;01mreturn\u001b[39;00m result\n\u001b[1;32m   1033\u001b[0m \u001b[38;5;28;01mif\u001b[39;00m \u001b[38;5;129;01mnot\u001b[39;00m \u001b[38;5;28misinstance\u001b[39m(\u001b[38;5;28mself\u001b[39m\u001b[38;5;241m.\u001b[39mindex, MultiIndex):\n\u001b[0;32m-> 1034\u001b[0m     \u001b[38;5;28;01mraise\u001b[39;00m \u001b[38;5;167;01mKeyError\u001b[39;00m(\u001b[38;5;124m\"\u001b[39m\u001b[38;5;124mkey of type tuple not found and not a MultiIndex\u001b[39m\u001b[38;5;124m\"\u001b[39m)\n\u001b[1;32m   1036\u001b[0m \u001b[38;5;66;03m# If key is contained, would have returned by now\u001b[39;00m\n\u001b[1;32m   1037\u001b[0m indexer, new_index \u001b[38;5;241m=\u001b[39m \u001b[38;5;28mself\u001b[39m\u001b[38;5;241m.\u001b[39mindex\u001b[38;5;241m.\u001b[39mget_loc_level(key)\n",
      "\u001b[0;31mKeyError\u001b[0m: 'key of type tuple not found and not a MultiIndex'"
     ]
    }
   ],
   "source": [
    "acc = [p == t for p,t in zip(list(y_train[pred]), list(y_test))]"
   ]
  },
  {
   "cell_type": "code",
   "execution_count": null,
   "id": "d80c8c6f-5153-4f09-8fed-e9a66522a9d2",
   "metadata": {},
   "outputs": [],
   "source": [
    "sum(acc) / len(acc)"
   ]
  },
  {
   "cell_type": "code",
   "execution_count": null,
   "id": "d68f55a8-a7a1-4f10-86b3-4f9bce8c84c6",
   "metadata": {},
   "outputs": [],
   "source": [
    "len(acc)"
   ]
  },
  {
   "cell_type": "code",
   "execution_count": null,
   "id": "9002bd74-541e-42ac-b460-a426f5e3d5e4",
   "metadata": {},
   "outputs": [],
   "source": [
    "sum(acc)"
   ]
  },
  {
   "cell_type": "code",
   "execution_count": 12,
   "id": "1ddc7980-c20f-4ed5-96c3-2e74382db10a",
   "metadata": {},
   "outputs": [
    {
     "data": {
      "text/plain": [
       "'7ev3n'"
      ]
     },
     "execution_count": 12,
     "metadata": {},
     "output_type": "execute_result"
    }
   ],
   "source": [
    "pred_label = [y_train[i] for i in"
   ]
  },
  {
   "cell_type": "code",
   "execution_count": null,
   "id": "07392267-04a9-4566-9102-e977618932a0",
   "metadata": {},
   "outputs": [],
   "source": [
    "model.score(X_test, y_test)"
   ]
  },
  {
   "cell_type": "code",
   "execution_count": 9,
   "id": "ce6c77b6-f628-49e1-87da-2d35a681b55d",
   "metadata": {
    "tags": []
   },
   "outputs": [
    {
     "data": {
      "text/plain": [
       "337"
      ]
     },
     "execution_count": 9,
     "metadata": {},
     "output_type": "execute_result"
    }
   ],
   "source": [
    "len(X_train.keys())"
   ]
  },
  {
   "cell_type": "code",
   "execution_count": 10,
   "id": "4ace3426-c1e5-4c39-a114-abcfa71e0061",
   "metadata": {
    "tags": []
   },
   "outputs": [
    {
     "data": {
      "text/plain": [
       "337"
      ]
     },
     "execution_count": 10,
     "metadata": {},
     "output_type": "execute_result"
    }
   ],
   "source": [
    "len(y_train)"
   ]
  },
  {
   "cell_type": "code",
   "execution_count": 12,
   "id": "2aa4f55f-b152-469e-ad1d-5b9aa9cf97f5",
   "metadata": {},
   "outputs": [
    {
     "data": {
      "text/plain": [
       "['a3cd2553909f5a3b2e73749a0f7ceb512845a757fe42c1def5eb56985342b56b',\n",
       " 'ff905f9a2bf4e1e326915a8a3cdb20c3ffb9ed470ddc367141c961e9b37d6882',\n",
       " 'f5b326602562b01c3f7f94a89246f62992a26cac46a6a565f43f6ec1f35a83b9',\n",
       " '50ef490b95ec97df99912bfc672c76501fa19a3455ddad05963236c3bff9d01c',\n",
       " '2460ad3fb1bdf217cea9cb08d93af6be354dda4c3e00c7e9dc38e34bd24197ce',\n",
       " '3267b5eb8ecbfc765cf18d7c84098451773ebf0eaaa3487aa71bd7aa4784f353',\n",
       " '1b26d2f07d651327ff71711dbf769d7bb59864afc47798212b45d9bce2f337e2',\n",
       " '73b6fbe414712886ed4d0f4dddf23bff08080c930e05c7ef5f6a5b001319738b',\n",
       " '6c5fe56586a70d86d32194857f453a5c88c75f453739b358cc0868b878a0e00c',\n",
       " '5e708c456ff9d1067020df1047ec8e0bd3083cc8188e730d33e623e21503602a',\n",
       " '5f9f722de64033fa6bf398e0dc7050c9c100ad2a030dd678b9c6601cba03f479',\n",
       " 'ff6e5a8c4ba6469a99c2dbdc7921c2a3aa5ab1fa7ae5664fd7d7c752cd34e7bb',\n",
       " '0827391941d0522f21f5c744339d98125f8b8fbd9c14de47f256efb3be4a1d0e',\n",
       " '9e3f7604860fb9d809595d7305d20b5530d840c587ef7e41ccd391ff0d9d2c09',\n",
       " '892382ff721c7d6cd86621b40cf8ef13413dd2bd8f5c3f90455618d325a85382',\n",
       " '0b851300c260dca6fb7f5085735904dbed0e22dbc20aba2b1da087030c0755e1',\n",
       " '5c71a33ca97ab0ee80add5e8ad2fe46818ef2ea1639ecf0baa170e8058b1d7b8',\n",
       " '2aa42bd060cf842afda3b574f2bda62cfbfbf0af1aa4b843e180b73c76abddfa',\n",
       " 'b05af5853608a25da63eea3bb73e37bad58e2c838cdc7dc3bafc1303da513e81',\n",
       " '8391d60619d79c8beded608a0801a02423905d681f6ddaaa15dc4e0e7612cf49',\n",
       " '9eb5b76e70fa17d078a72868ceffda5484ceca6bc62d1c6994178940f2485a2f',\n",
       " '7df85cd356308c02463abdb1074feb0e9464632e4bd9778f9c3880ded37518fd',\n",
       " '91434b03f009641ca9948d379319466026ea0c3622951e26c2d0188f0b1e4767',\n",
       " '56401aec4cf023abaada2c650f2c81bf21ced1d1ebbd2c78718a762a642293db',\n",
       " 'f59dde1dfc313909d82c9ccd476f70e15c0ed5c7b8811b5f36c6ad23a2b3f112']"
      ]
     },
     "execution_count": 12,
     "metadata": {},
     "output_type": "execute_result"
    }
   ],
   "source": [
    "list(X_train.keys())[0:25]"
   ]
  },
  {
   "cell_type": "code",
   "execution_count": 22,
   "id": "f78e2b64-92b0-4ade-8f0d-f94fa0eb8ab0",
   "metadata": {},
   "outputs": [],
   "source": [
    "filtered_test = {group_id: list_of_vectors for group_id, list_of_vectors in X_test.items() if len(list_of_vectors) >= 100 }"
   ]
  },
  {
   "cell_type": "code",
   "execution_count": 23,
   "id": "92ae3f63-56e2-4dfa-8eb5-7dcaa2ad2ea2",
   "metadata": {},
   "outputs": [
    {
     "data": {
      "text/plain": [
       "68"
      ]
     },
     "execution_count": 23,
     "metadata": {},
     "output_type": "execute_result"
    }
   ],
   "source": [
    "len(filtered_test)"
   ]
  },
  {
   "cell_type": "code",
   "execution_count": null,
   "id": "2f0f169a-42ca-4a26-b8f2-2a1d5cf111ab",
   "metadata": {},
   "outputs": [],
   "source": []
  }
 ],
 "metadata": {
  "kernelspec": {
   "display_name": "Python 3 (ipykernel)",
   "language": "python",
   "name": "python3"
  },
  "language_info": {
   "codemirror_mode": {
    "name": "ipython",
    "version": 3
   },
   "file_extension": ".py",
   "mimetype": "text/x-python",
   "name": "python",
   "nbconvert_exporter": "python",
   "pygments_lexer": "ipython3",
   "version": "3.10.4"
  }
 },
 "nbformat": 4,
 "nbformat_minor": 5
}
