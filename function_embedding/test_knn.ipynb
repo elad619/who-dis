{
 "cells": [
  {
   "cell_type": "code",
   "execution_count": 1,
   "id": "bac7ab88-0045-47cf-8a5a-4fc770ea07e3",
   "metadata": {},
   "outputs": [
    {
     "name": "stderr",
     "output_type": "stream",
     "text": [
      "/anaconda/envs/azureml_py38_PT_and_TF/lib/python3.8/site-packages/scipy/__init__.py:138: UserWarning: A NumPy version >=1.16.5 and <1.23.0 is required for this version of SciPy (detected version 1.23.0)\n",
      "  warnings.warn(f\"A NumPy version >={np_minversion} and <{np_maxversion} is required for this version of \"\n"
     ]
    }
   ],
   "source": [
    "from pathlib import Path\n",
    "\n",
    "import pandas as pd\n",
    "\n",
    "from data_loading import get_embeddings_dataset\n",
    "from file_wise_metric import file_metric\n",
    "from nearest_nighbor import GroupOfVectorsNearestNeighbors"
   ]
  },
  {
   "cell_type": "code",
   "execution_count": 2,
   "id": "83ac2114-77dd-469c-8c05-2c48da9bab35",
   "metadata": {},
   "outputs": [],
   "source": [
    "model = GroupOfVectorsNearestNeighbors(file_metric, k=1)"
   ]
  },
  {
   "cell_type": "code",
   "execution_count": 3,
   "id": "bd2aa099-bd8f-4d3a-8fcf-5fd70992c4b2",
   "metadata": {},
   "outputs": [
    {
     "data": {
      "application/vnd.jupyter.widget-view+json": {
       "model_id": "bc449ebeaba3483e81fd6dd6a1104e70",
       "version_major": 2,
       "version_minor": 0
      },
      "text/plain": [
       "loading vecs from files:   0%|          | 0/695 [00:00<?, ?malware/s]"
      ]
     },
     "metadata": {},
     "output_type": "display_data"
    },
    {
     "name": "stdout",
     "output_type": "stream",
     "text": [
      "id: 44c23c730eec8740b1345dcd42700fdbc7d9b286347b0e4ee9a10641505f64d9 is bad, in gt: not_apt, in embedding: veno\n",
      "id: b24691eaca5fb49d5216cf25a36ee67807d33b2a131bfcbc5a0882183d4f67da is bad, in gt: not_apt, in embedding: veno\n"
     ]
    }
   ],
   "source": [
    "all_data_dir_path = Path(\"/home/dluser/Workspace\")\n",
    "embeddings_dir = Path(all_data_dir_path, \"embeddings\")\n",
    "labels_dir = Path(all_data_dir_path, \"train_test_split_v3\")\n",
    "\n",
    "X_train, X_test, y_train, y_test = get_embeddings_dataset(labels_dir, embeddings_dir)\n",
    "\n",
    "y_train = y_train[X_train.keys()]\n",
    "y_test = y_test[X_test.keys()]"
   ]
  },
  {
   "cell_type": "code",
   "execution_count": 4,
   "id": "756754c6-b04c-43ee-9a19-9758611eb1e1",
   "metadata": {},
   "outputs": [],
   "source": [
    "model.fit(X_train, y_train)"
   ]
  },
  {
   "cell_type": "code",
   "execution_count": 23,
   "id": "e4515c50-f8fb-449e-b466-96ea5b0bcb11",
   "metadata": {},
   "outputs": [
    {
     "data": {
      "text/plain": [
       "'a7a778049a1f73723eff30909e8c54ff2091ed8a7cfdf24f6e3c847521329580'"
      ]
     },
     "execution_count": 23,
     "metadata": {},
     "output_type": "execute_result"
    }
   ],
   "source": [
    "X_test[list(X_test.keys())[15]]\n",
    "list(X_test.keys())[15]"
   ]
  },
  {
   "cell_type": "code",
   "execution_count": 5,
   "id": "de68fe3f-e344-4cf2-af9e-a1056faee581",
   "metadata": {},
   "outputs": [
    {
     "data": {
      "text/plain": [
       "[]"
      ]
     },
     "execution_count": 5,
     "metadata": {},
     "output_type": "execute_result"
    }
   ],
   "source": [
    "X_test.pop('a7a778049a1f73723eff30909e8c54ff2091ed8a7cfdf24f6e3c847521329580', None)"
   ]
  },
  {
   "cell_type": "code",
   "execution_count": 6,
   "id": "8ddb3002-f4bd-45ee-88ff-b93079c3f6f4",
   "metadata": {
    "tags": []
   },
   "outputs": [
    {
     "name": "stderr",
     "output_type": "stream",
     "text": [
      "100%|████████████████████████████████████████████████████████████████████████████████████████████████████████████████████████████████████████████████████████████████████| 209/209 [02:42<00:00,  1.28it/s]\n"
     ]
    }
   ],
   "source": [
    "pred = model.predict(X_test)"
   ]
  },
  {
   "cell_type": "code",
   "execution_count": 7,
   "id": "2de2e046-ccb7-4183-89f9-b547a6ad393f",
   "metadata": {},
   "outputs": [],
   "source": [
    "acc = [p == t for p,t in zip(list(pred[0]), list(y_test))]"
   ]
  },
  {
   "cell_type": "code",
   "execution_count": 8,
   "id": "d80c8c6f-5153-4f09-8fed-e9a66522a9d2",
   "metadata": {},
   "outputs": [
    {
     "data": {
      "text/plain": [
       "0.8755980861244019"
      ]
     },
     "execution_count": 8,
     "metadata": {},
     "output_type": "execute_result"
    }
   ],
   "source": [
    "sum(acc) / len(acc)"
   ]
  },
  {
   "cell_type": "code",
   "execution_count": 9,
   "id": "d68f55a8-a7a1-4f10-86b3-4f9bce8c84c6",
   "metadata": {},
   "outputs": [
    {
     "data": {
      "text/plain": [
       "209"
      ]
     },
     "execution_count": 9,
     "metadata": {},
     "output_type": "execute_result"
    }
   ],
   "source": [
    "len(acc)"
   ]
  },
  {
   "cell_type": "code",
   "execution_count": 10,
   "id": "9002bd74-541e-42ac-b460-a426f5e3d5e4",
   "metadata": {},
   "outputs": [
    {
     "data": {
      "text/plain": [
       "183"
      ]
     },
     "execution_count": 10,
     "metadata": {},
     "output_type": "execute_result"
    }
   ],
   "source": [
    "sum(acc)"
   ]
  }
 ],
 "metadata": {
  "kernelspec": {
   "display_name": "Python [conda env:azureml_py38_PT_and_TF]",
   "language": "python",
   "name": "conda-env-azureml_py38_PT_and_TF-py"
  },
  "language_info": {
   "codemirror_mode": {
    "name": "ipython",
    "version": 3
   },
   "file_extension": ".py",
   "mimetype": "text/x-python",
   "name": "python",
   "nbconvert_exporter": "python",
   "pygments_lexer": "ipython3",
   "version": "3.8.5"
  }
 },
 "nbformat": 4,
 "nbformat_minor": 5
}
